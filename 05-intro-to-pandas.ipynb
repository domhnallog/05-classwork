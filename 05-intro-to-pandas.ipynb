{
 "cells": [
  {
   "cell_type": "code",
   "execution_count": 1,
   "metadata": {},
   "outputs": [
    {
     "name": "stdout",
     "output_type": "stream",
     "text": [
      "05-intro-to-pandas.ipynb\n",
      "countries.csv\n",
      "school-shootings-data.csv\n",
      "sources.txt\n"
     ]
    }
   ],
   "source": [
    "!ls"
   ]
  },
  {
   "cell_type": "code",
   "execution_count": 125,
   "metadata": {},
   "outputs": [],
   "source": [
    "import pandas as pd\n",
    "%matplotlib inline"
   ]
  },
  {
   "cell_type": "code",
   "execution_count": 6,
   "metadata": {},
   "outputs": [
    {
     "data": {
      "text/plain": [
       "pandas.core.frame.DataFrame"
      ]
     },
     "execution_count": 6,
     "metadata": {},
     "output_type": "execute_result"
    }
   ],
   "source": [
    "type(pd.read_csv(\"countries.csv\"))"
   ]
  },
  {
   "cell_type": "code",
   "execution_count": 13,
   "metadata": {},
   "outputs": [],
   "source": [
    "# This table is a dataframe\n",
    "# common practice is pull in all dataframes as \"df\"\n",
    "df = pd.read_csv(\"countries.csv\")"
   ]
  },
  {
   "cell_type": "code",
   "execution_count": null,
   "metadata": {},
   "outputs": [],
   "source": [
    "# look at your data\n",
    "df"
   ]
  },
  {
   "cell_type": "code",
   "execution_count": 68,
   "metadata": {},
   "outputs": [
    {
     "data": {
      "text/html": [
       "<div>\n",
       "<style scoped>\n",
       "    .dataframe tbody tr th:only-of-type {\n",
       "        vertical-align: middle;\n",
       "    }\n",
       "\n",
       "    .dataframe tbody tr th {\n",
       "        vertical-align: top;\n",
       "    }\n",
       "\n",
       "    .dataframe thead th {\n",
       "        text-align: right;\n",
       "    }\n",
       "</style>\n",
       "<table border=\"1\" class=\"dataframe\">\n",
       "  <thead>\n",
       "    <tr style=\"text-align: right;\">\n",
       "      <th></th>\n",
       "      <th>Country</th>\n",
       "      <th>Continent</th>\n",
       "      <th>GDP_per_capita</th>\n",
       "      <th>life_expectancy</th>\n",
       "      <th>Population</th>\n",
       "    </tr>\n",
       "  </thead>\n",
       "  <tbody>\n",
       "    <tr>\n",
       "      <th>0</th>\n",
       "      <td>Afghanistan</td>\n",
       "      <td>Asia</td>\n",
       "      <td>663</td>\n",
       "      <td>54.863</td>\n",
       "      <td>22856302</td>\n",
       "    </tr>\n",
       "    <tr>\n",
       "      <th>1</th>\n",
       "      <td>Albania</td>\n",
       "      <td>Europe</td>\n",
       "      <td>4195</td>\n",
       "      <td>74.200</td>\n",
       "      <td>3071856</td>\n",
       "    </tr>\n",
       "    <tr>\n",
       "      <th>2</th>\n",
       "      <td>Algeria</td>\n",
       "      <td>Africa</td>\n",
       "      <td>5098</td>\n",
       "      <td>68.963</td>\n",
       "      <td>30533827</td>\n",
       "    </tr>\n",
       "    <tr>\n",
       "      <th>3</th>\n",
       "      <td>Angola</td>\n",
       "      <td>Africa</td>\n",
       "      <td>2446</td>\n",
       "      <td>45.234</td>\n",
       "      <td>13926373</td>\n",
       "    </tr>\n",
       "    <tr>\n",
       "      <th>4</th>\n",
       "      <td>Antigua and Barbuda</td>\n",
       "      <td>N. America</td>\n",
       "      <td>12738</td>\n",
       "      <td>73.544</td>\n",
       "      <td>77656</td>\n",
       "    </tr>\n",
       "  </tbody>\n",
       "</table>\n",
       "</div>"
      ],
      "text/plain": [
       "               Country   Continent  GDP_per_capita  life_expectancy  \\\n",
       "0          Afghanistan        Asia             663           54.863   \n",
       "1              Albania      Europe            4195           74.200   \n",
       "2              Algeria      Africa            5098           68.963   \n",
       "3               Angola      Africa            2446           45.234   \n",
       "4  Antigua and Barbuda  N. America           12738           73.544   \n",
       "\n",
       "   Population  \n",
       "0    22856302  \n",
       "1     3071856  \n",
       "2    30533827  \n",
       "3    13926373  \n",
       "4       77656  "
      ]
     },
     "execution_count": 68,
     "metadata": {},
     "output_type": "execute_result"
    }
   ],
   "source": [
    "# Look at just the first 5 rows\n",
    "df.head() "
   ]
  },
  {
   "cell_type": "code",
   "execution_count": 15,
   "metadata": {},
   "outputs": [],
   "source": [
    "# Look at just the last 5 rows\n",
    "df.tail()"
   ]
  },
  {
   "cell_type": "code",
   "execution_count": 17,
   "metadata": {},
   "outputs": [],
   "source": [
    "# Look at just the first or last X rows, number in parens\n",
    "df.tail(11)"
   ]
  },
  {
   "cell_type": "code",
   "execution_count": 21,
   "metadata": {},
   "outputs": [
    {
     "data": {
      "text/plain": [
       "(188, 5)"
      ]
     },
     "execution_count": 21,
     "metadata": {},
     "output_type": "execute_result"
    }
   ],
   "source": [
    "# Get total rows and columns\n",
    "df.shape"
   ]
  },
  {
   "cell_type": "code",
   "execution_count": 20,
   "metadata": {},
   "outputs": [
    {
     "data": {
      "text/plain": [
       "Country             object\n",
       "Continent           object\n",
       "GDP_per_capita       int64\n",
       "life_expectancy    float64\n",
       "Population           int64\n",
       "dtype: object"
      ]
     },
     "execution_count": 20,
     "metadata": {},
     "output_type": "execute_result"
    }
   ],
   "source": [
    "# Get your column types/names/labels\n",
    "df.dtypes"
   ]
  },
  {
   "cell_type": "code",
   "execution_count": 27,
   "metadata": {},
   "outputs": [
    {
     "data": {
      "text/plain": [
       "<bound method DataFrame.sort_values of                     Country   Continent  GDP_per_capita  life_expectancy  \\\n",
       "0               Afghanistan        Asia             663           54.863   \n",
       "1                   Albania      Europe            4195           74.200   \n",
       "2                   Algeria      Africa            5098           68.963   \n",
       "3                    Angola      Africa            2446           45.234   \n",
       "4       Antigua and Barbuda  N. America           12738           73.544   \n",
       "5                 Argentina  S. America           10571           73.822   \n",
       "6                   Armenia      Europe            2114           71.494   \n",
       "7                 Australia     Oceania           29241           79.930   \n",
       "8                   Austria      Europe           32008           78.330   \n",
       "9                Azerbaijan      Europe            2533           66.851   \n",
       "10                  Bahamas  N. America           22728           72.370   \n",
       "11                  Bahrain        Asia           22015           74.497   \n",
       "12               Bangladesh        Asia            1075           65.309   \n",
       "13                 Barbados  N. America           14982           73.118   \n",
       "14                  Belarus      Europe            5936           68.990   \n",
       "15                  Belgium      Europe           29940           77.910   \n",
       "16                   Belize  N. America            6545           70.425   \n",
       "17                    Benin      Africa            1307           55.261   \n",
       "18                   Bhutan        Asia            2922           60.307   \n",
       "19                  Bolivia  S. America            3394           62.994   \n",
       "20   Bosnia and Herzegovina      Europe            5733           74.882   \n",
       "21                 Botswana      Africa           10107           50.567   \n",
       "22                   Brazil  S. America            8056           70.261   \n",
       "23                   Brunei        Asia           48020           75.927   \n",
       "24                 Bulgaria      Europe            6907           71.590   \n",
       "25             Burkina Faso      Africa            1001           50.589   \n",
       "26                  Burundi      Africa             443           48.251   \n",
       "27                 Cambodia        Asia             982           62.030   \n",
       "28                 Cameroon      Africa            1803           51.960   \n",
       "29                   Canada  N. America           32448           79.410   \n",
       "..                      ...         ...             ...              ...   \n",
       "158                Suriname  S. America            5677           67.851   \n",
       "159               Swaziland      Africa            4021           48.689   \n",
       "160                  Sweden      Europe           28640           79.840   \n",
       "161             Switzerland      Europe           34386           79.990   \n",
       "162                   Syria        Asia            3935           73.316   \n",
       "163                  Taiwan        Asia           23525           76.020   \n",
       "164              Tajikistan        Asia            1001           63.570   \n",
       "165                Tanzania      Africa             826           50.010   \n",
       "166                Thailand        Asia            5578           70.921   \n",
       "167             Timor-Leste        Asia            2743           59.468   \n",
       "168                    Togo      Africa             890           53.585   \n",
       "169                   Tonga     Oceania            4886           70.810   \n",
       "170     Trinidad and Tobago  N. America           10496           68.533   \n",
       "171                 Tunisia      Africa            5480           73.159   \n",
       "172                  Turkey        Asia            6803           70.010   \n",
       "173            Turkmenistan        Asia            3289           63.925   \n",
       "174                  Uganda      Africa             881           48.126   \n",
       "175                 Ukraine      Europe            3700           67.790   \n",
       "176    United Arab Emirates        Asia           30012           74.163   \n",
       "177          United Kingdom      Europe           28644           78.040   \n",
       "178           United States  N. America           39758           76.800   \n",
       "179                 Uruguay  S. America            9092           74.777   \n",
       "180              Uzbekistan        Asia            1635           66.999   \n",
       "181                 Vanuatu     Oceania            3762           67.438   \n",
       "182               Venezuela  S. America            9434           72.432   \n",
       "183                 Vietnam        Asia            1577           73.777   \n",
       "184      West Bank and Gaza        Asia            7586           70.929   \n",
       "185             Yemen, Rep.        Asia            2217           60.404   \n",
       "186                  Zambia      Africa            1035           41.802   \n",
       "187                Zimbabwe      Africa             745           43.976   \n",
       "\n",
       "     Population  \n",
       "0      22856302  \n",
       "1       3071856  \n",
       "2      30533827  \n",
       "3      13926373  \n",
       "4         77656  \n",
       "5      36930709  \n",
       "6       3076098  \n",
       "7      19164351  \n",
       "8       8004712  \n",
       "9       8110723  \n",
       "10       297651  \n",
       "11       638193  \n",
       "12    129592275  \n",
       "13       267511  \n",
       "14     10057810  \n",
       "15     10175684  \n",
       "16       250512  \n",
       "17      6517810  \n",
       "18       571262  \n",
       "19      8307248  \n",
       "20      3693698  \n",
       "21      1757925  \n",
       "22    174425387  \n",
       "23       327036  \n",
       "24      8006158  \n",
       "25     12294012  \n",
       "26      6374347  \n",
       "27     12446949  \n",
       "28     15678269  \n",
       "29     30667365  \n",
       "..          ...  \n",
       "158      466846  \n",
       "159     1063832  \n",
       "160     8860153  \n",
       "161     7167908  \n",
       "162    15988534  \n",
       "163    22183000  \n",
       "164     6172807  \n",
       "165    34038161  \n",
       "166    63155029  \n",
       "167      830089  \n",
       "168     4793504  \n",
       "169       97935  \n",
       "170     1292058  \n",
       "171     9456117  \n",
       "172    63627862  \n",
       "173     4501419  \n",
       "174    24213120  \n",
       "175    48891792  \n",
       "176     3033491  \n",
       "177    58874117  \n",
       "178   282496310  \n",
       "179     3319066  \n",
       "180    24775610  \n",
       "181      185074  \n",
       "182    24348304  \n",
       "183    78758010  \n",
       "184     3198560  \n",
       "185    17723186  \n",
       "186    10201562  \n",
       "187    12509477  \n",
       "\n",
       "[188 rows x 5 columns]>"
      ]
     },
     "execution_count": 27,
     "metadata": {},
     "output_type": "execute_result"
    }
   ],
   "source": [
    "df.sort_values"
   ]
  },
  {
   "cell_type": "code",
   "execution_count": 81,
   "metadata": {},
   "outputs": [
    {
     "data": {
      "text/plain": [
       "<bound method DataFrame.sort_index of                     Country   Continent  GDP_per_capita  life_expectancy  \\\n",
       "0               Afghanistan        Asia             663           54.863   \n",
       "1                   Albania      Europe            4195           74.200   \n",
       "2                   Algeria      Africa            5098           68.963   \n",
       "3                    Angola      Africa            2446           45.234   \n",
       "4       Antigua and Barbuda  N. America           12738           73.544   \n",
       "5                 Argentina  S. America           10571           73.822   \n",
       "6                   Armenia      Europe            2114           71.494   \n",
       "7                 Australia     Oceania           29241           79.930   \n",
       "8                   Austria      Europe           32008           78.330   \n",
       "9                Azerbaijan      Europe            2533           66.851   \n",
       "10                  Bahamas  N. America           22728           72.370   \n",
       "11                  Bahrain        Asia           22015           74.497   \n",
       "12               Bangladesh        Asia            1075           65.309   \n",
       "13                 Barbados  N. America           14982           73.118   \n",
       "14                  Belarus      Europe            5936           68.990   \n",
       "15                  Belgium      Europe           29940           77.910   \n",
       "16                   Belize  N. America            6545           70.425   \n",
       "17                    Benin      Africa            1307           55.261   \n",
       "18                   Bhutan        Asia            2922           60.307   \n",
       "19                  Bolivia  S. America            3394           62.994   \n",
       "20   Bosnia and Herzegovina      Europe            5733           74.882   \n",
       "21                 Botswana      Africa           10107           50.567   \n",
       "22                   Brazil  S. America            8056           70.261   \n",
       "23                   Brunei        Asia           48020           75.927   \n",
       "24                 Bulgaria      Europe            6907           71.590   \n",
       "25             Burkina Faso      Africa            1001           50.589   \n",
       "26                  Burundi      Africa             443           48.251   \n",
       "27                 Cambodia        Asia             982           62.030   \n",
       "28                 Cameroon      Africa            1803           51.960   \n",
       "29                   Canada  N. America           32448           79.410   \n",
       "..                      ...         ...             ...              ...   \n",
       "158                Suriname  S. America            5677           67.851   \n",
       "159               Swaziland      Africa            4021           48.689   \n",
       "160                  Sweden      Europe           28640           79.840   \n",
       "161             Switzerland      Europe           34386           79.990   \n",
       "162                   Syria        Asia            3935           73.316   \n",
       "163                  Taiwan        Asia           23525           76.020   \n",
       "164              Tajikistan        Asia            1001           63.570   \n",
       "165                Tanzania      Africa             826           50.010   \n",
       "166                Thailand        Asia            5578           70.921   \n",
       "167             Timor-Leste        Asia            2743           59.468   \n",
       "168                    Togo      Africa             890           53.585   \n",
       "169                   Tonga     Oceania            4886           70.810   \n",
       "170     Trinidad and Tobago  N. America           10496           68.533   \n",
       "171                 Tunisia      Africa            5480           73.159   \n",
       "172                  Turkey        Asia            6803           70.010   \n",
       "173            Turkmenistan        Asia            3289           63.925   \n",
       "174                  Uganda      Africa             881           48.126   \n",
       "175                 Ukraine      Europe            3700           67.790   \n",
       "176    United Arab Emirates        Asia           30012           74.163   \n",
       "177          United Kingdom      Europe           28644           78.040   \n",
       "178           United States  N. America           39758           76.800   \n",
       "179                 Uruguay  S. America            9092           74.777   \n",
       "180              Uzbekistan        Asia            1635           66.999   \n",
       "181                 Vanuatu     Oceania            3762           67.438   \n",
       "182               Venezuela  S. America            9434           72.432   \n",
       "183                 Vietnam        Asia            1577           73.777   \n",
       "184      West Bank and Gaza        Asia            7586           70.929   \n",
       "185             Yemen, Rep.        Asia            2217           60.404   \n",
       "186                  Zambia      Africa            1035           41.802   \n",
       "187                Zimbabwe      Africa             745           43.976   \n",
       "\n",
       "     Population  \n",
       "0      22856302  \n",
       "1       3071856  \n",
       "2      30533827  \n",
       "3      13926373  \n",
       "4         77656  \n",
       "5      36930709  \n",
       "6       3076098  \n",
       "7      19164351  \n",
       "8       8004712  \n",
       "9       8110723  \n",
       "10       297651  \n",
       "11       638193  \n",
       "12    129592275  \n",
       "13       267511  \n",
       "14     10057810  \n",
       "15     10175684  \n",
       "16       250512  \n",
       "17      6517810  \n",
       "18       571262  \n",
       "19      8307248  \n",
       "20      3693698  \n",
       "21      1757925  \n",
       "22    174425387  \n",
       "23       327036  \n",
       "24      8006158  \n",
       "25     12294012  \n",
       "26      6374347  \n",
       "27     12446949  \n",
       "28     15678269  \n",
       "29     30667365  \n",
       "..          ...  \n",
       "158      466846  \n",
       "159     1063832  \n",
       "160     8860153  \n",
       "161     7167908  \n",
       "162    15988534  \n",
       "163    22183000  \n",
       "164     6172807  \n",
       "165    34038161  \n",
       "166    63155029  \n",
       "167      830089  \n",
       "168     4793504  \n",
       "169       97935  \n",
       "170     1292058  \n",
       "171     9456117  \n",
       "172    63627862  \n",
       "173     4501419  \n",
       "174    24213120  \n",
       "175    48891792  \n",
       "176     3033491  \n",
       "177    58874117  \n",
       "178   282496310  \n",
       "179     3319066  \n",
       "180    24775610  \n",
       "181      185074  \n",
       "182    24348304  \n",
       "183    78758010  \n",
       "184     3198560  \n",
       "185    17723186  \n",
       "186    10201562  \n",
       "187    12509477  \n",
       "\n",
       "[188 rows x 5 columns]>"
      ]
     },
     "execution_count": 81,
     "metadata": {},
     "output_type": "execute_result"
    }
   ],
   "source": [
    "df.sort_index"
   ]
  },
  {
   "cell_type": "code",
   "execution_count": 29,
   "metadata": {},
   "outputs": [
    {
     "data": {
      "text/html": [
       "<div>\n",
       "<style scoped>\n",
       "    .dataframe tbody tr th:only-of-type {\n",
       "        vertical-align: middle;\n",
       "    }\n",
       "\n",
       "    .dataframe tbody tr th {\n",
       "        vertical-align: top;\n",
       "    }\n",
       "\n",
       "    .dataframe thead th {\n",
       "        text-align: right;\n",
       "    }\n",
       "</style>\n",
       "<table border=\"1\" class=\"dataframe\">\n",
       "  <thead>\n",
       "    <tr style=\"text-align: right;\">\n",
       "      <th></th>\n",
       "      <th>Country</th>\n",
       "      <th>Continent</th>\n",
       "      <th>GDP_per_capita</th>\n",
       "      <th>life_expectancy</th>\n",
       "      <th>Population</th>\n",
       "    </tr>\n",
       "  </thead>\n",
       "  <tbody>\n",
       "    <tr>\n",
       "      <th>99</th>\n",
       "      <td>Luxembourg</td>\n",
       "      <td>Europe</td>\n",
       "      <td>63924</td>\n",
       "      <td>77.820</td>\n",
       "      <td>435491</td>\n",
       "    </tr>\n",
       "    <tr>\n",
       "      <th>135</th>\n",
       "      <td>Qatar</td>\n",
       "      <td>Asia</td>\n",
       "      <td>60394</td>\n",
       "      <td>76.680</td>\n",
       "      <td>590957</td>\n",
       "    </tr>\n",
       "    <tr>\n",
       "      <th>23</th>\n",
       "      <td>Brunei</td>\n",
       "      <td>Asia</td>\n",
       "      <td>48020</td>\n",
       "      <td>75.927</td>\n",
       "      <td>327036</td>\n",
       "    </tr>\n",
       "    <tr>\n",
       "      <th>125</th>\n",
       "      <td>Norway</td>\n",
       "      <td>Europe</td>\n",
       "      <td>43174</td>\n",
       "      <td>78.760</td>\n",
       "      <td>4490859</td>\n",
       "    </tr>\n",
       "    <tr>\n",
       "      <th>178</th>\n",
       "      <td>United States</td>\n",
       "      <td>N. America</td>\n",
       "      <td>39758</td>\n",
       "      <td>76.800</td>\n",
       "      <td>282496310</td>\n",
       "    </tr>\n",
       "  </tbody>\n",
       "</table>\n",
       "</div>"
      ],
      "text/plain": [
       "           Country   Continent  GDP_per_capita  life_expectancy  Population\n",
       "99      Luxembourg      Europe           63924           77.820      435491\n",
       "135          Qatar        Asia           60394           76.680      590957\n",
       "23          Brunei        Asia           48020           75.927      327036\n",
       "125         Norway      Europe           43174           78.760     4490859\n",
       "178  United States  N. America           39758           76.800   282496310"
      ]
     },
     "execution_count": 29,
     "metadata": {},
     "output_type": "execute_result"
    }
   ],
   "source": [
    "# Get GDP\n",
    "df.sort_values(by='GDP_per_capita', ascending=False).head(5)"
   ]
  },
  {
   "cell_type": "code",
   "execution_count": 37,
   "metadata": {},
   "outputs": [
    {
     "data": {
      "text/html": [
       "<div>\n",
       "<style scoped>\n",
       "    .dataframe tbody tr th:only-of-type {\n",
       "        vertical-align: middle;\n",
       "    }\n",
       "\n",
       "    .dataframe tbody tr th {\n",
       "        vertical-align: top;\n",
       "    }\n",
       "\n",
       "    .dataframe thead th {\n",
       "        text-align: right;\n",
       "    }\n",
       "</style>\n",
       "<table border=\"1\" class=\"dataframe\">\n",
       "  <thead>\n",
       "    <tr style=\"text-align: right;\">\n",
       "      <th></th>\n",
       "      <th>Country</th>\n",
       "      <th>Continent</th>\n",
       "      <th>GDP_per_capita</th>\n",
       "      <th>life_expectancy</th>\n",
       "      <th>Population</th>\n",
       "    </tr>\n",
       "  </thead>\n",
       "  <tbody>\n",
       "    <tr>\n",
       "      <th>169</th>\n",
       "      <td>Tonga</td>\n",
       "      <td>Oceania</td>\n",
       "      <td>4886</td>\n",
       "      <td>70.810</td>\n",
       "      <td>97935</td>\n",
       "    </tr>\n",
       "    <tr>\n",
       "      <th>87</th>\n",
       "      <td>Kiribati</td>\n",
       "      <td>Oceania</td>\n",
       "      <td>3501</td>\n",
       "      <td>64.642</td>\n",
       "      <td>84010</td>\n",
       "    </tr>\n",
       "    <tr>\n",
       "      <th>146</th>\n",
       "      <td>Seychelles</td>\n",
       "      <td>Africa</td>\n",
       "      <td>15230</td>\n",
       "      <td>71.771</td>\n",
       "      <td>78685</td>\n",
       "    </tr>\n",
       "    <tr>\n",
       "      <th>4</th>\n",
       "      <td>Antigua and Barbuda</td>\n",
       "      <td>N. America</td>\n",
       "      <td>12738</td>\n",
       "      <td>73.544</td>\n",
       "      <td>77656</td>\n",
       "    </tr>\n",
       "    <tr>\n",
       "      <th>64</th>\n",
       "      <td>Greenland</td>\n",
       "      <td>N. America</td>\n",
       "      <td>33204</td>\n",
       "      <td>67.030</td>\n",
       "      <td>56196</td>\n",
       "    </tr>\n",
       "  </tbody>\n",
       "</table>\n",
       "</div>"
      ],
      "text/plain": [
       "                 Country   Continent  GDP_per_capita  life_expectancy  \\\n",
       "169                Tonga     Oceania            4886           70.810   \n",
       "87              Kiribati     Oceania            3501           64.642   \n",
       "146           Seychelles      Africa           15230           71.771   \n",
       "4    Antigua and Barbuda  N. America           12738           73.544   \n",
       "64             Greenland  N. America           33204           67.030   \n",
       "\n",
       "     Population  \n",
       "169       97935  \n",
       "87        84010  \n",
       "146       78685  \n",
       "4         77656  \n",
       "64        56196  "
      ]
     },
     "execution_count": 37,
     "metadata": {},
     "output_type": "execute_result"
    }
   ],
   "source": [
    "# Get smallest 5 countries, descending\n",
    "df.sort_values(by='Population', ascending=False).tail()"
   ]
  },
  {
   "cell_type": "code",
   "execution_count": 38,
   "metadata": {},
   "outputs": [
    {
     "data": {
      "text/html": [
       "<div>\n",
       "<style scoped>\n",
       "    .dataframe tbody tr th:only-of-type {\n",
       "        vertical-align: middle;\n",
       "    }\n",
       "\n",
       "    .dataframe tbody tr th {\n",
       "        vertical-align: top;\n",
       "    }\n",
       "\n",
       "    .dataframe thead th {\n",
       "        text-align: right;\n",
       "    }\n",
       "</style>\n",
       "<table border=\"1\" class=\"dataframe\">\n",
       "  <thead>\n",
       "    <tr style=\"text-align: right;\">\n",
       "      <th></th>\n",
       "      <th>Country</th>\n",
       "      <th>Continent</th>\n",
       "      <th>GDP_per_capita</th>\n",
       "      <th>life_expectancy</th>\n",
       "      <th>Population</th>\n",
       "    </tr>\n",
       "  </thead>\n",
       "  <tbody>\n",
       "    <tr>\n",
       "      <th>64</th>\n",
       "      <td>Greenland</td>\n",
       "      <td>N. America</td>\n",
       "      <td>33204</td>\n",
       "      <td>67.030</td>\n",
       "      <td>56196</td>\n",
       "    </tr>\n",
       "    <tr>\n",
       "      <th>4</th>\n",
       "      <td>Antigua and Barbuda</td>\n",
       "      <td>N. America</td>\n",
       "      <td>12738</td>\n",
       "      <td>73.544</td>\n",
       "      <td>77656</td>\n",
       "    </tr>\n",
       "    <tr>\n",
       "      <th>146</th>\n",
       "      <td>Seychelles</td>\n",
       "      <td>Africa</td>\n",
       "      <td>15230</td>\n",
       "      <td>71.771</td>\n",
       "      <td>78685</td>\n",
       "    </tr>\n",
       "    <tr>\n",
       "      <th>87</th>\n",
       "      <td>Kiribati</td>\n",
       "      <td>Oceania</td>\n",
       "      <td>3501</td>\n",
       "      <td>64.642</td>\n",
       "      <td>84010</td>\n",
       "    </tr>\n",
       "    <tr>\n",
       "      <th>169</th>\n",
       "      <td>Tonga</td>\n",
       "      <td>Oceania</td>\n",
       "      <td>4886</td>\n",
       "      <td>70.810</td>\n",
       "      <td>97935</td>\n",
       "    </tr>\n",
       "  </tbody>\n",
       "</table>\n",
       "</div>"
      ],
      "text/plain": [
       "                 Country   Continent  GDP_per_capita  life_expectancy  \\\n",
       "64             Greenland  N. America           33204           67.030   \n",
       "4    Antigua and Barbuda  N. America           12738           73.544   \n",
       "146           Seychelles      Africa           15230           71.771   \n",
       "87              Kiribati     Oceania            3501           64.642   \n",
       "169                Tonga     Oceania            4886           70.810   \n",
       "\n",
       "     Population  \n",
       "64        56196  \n",
       "4         77656  \n",
       "146       78685  \n",
       "87        84010  \n",
       "169       97935  "
      ]
     },
     "execution_count": 38,
     "metadata": {},
     "output_type": "execute_result"
    }
   ],
   "source": [
    "# Get smallest 5 countries, ascending\n",
    "df.sort_values(by='Population', ascending=True).head()"
   ]
  },
  {
   "cell_type": "code",
   "execution_count": 48,
   "metadata": {},
   "outputs": [
    {
     "data": {
      "text/plain": [
       "63924"
      ]
     },
     "execution_count": 48,
     "metadata": {},
     "output_type": "execute_result"
    }
   ],
   "source": [
    "# Get GDP\n",
    "df['GDP_per_capita'].max()"
   ]
  },
  {
   "cell_type": "code",
   "execution_count": 46,
   "metadata": {},
   "outputs": [
    {
     "data": {
      "text/plain": [
       "38.12300000000001"
      ]
     },
     "execution_count": 46,
     "metadata": {},
     "output_type": "execute_result"
    }
   ],
   "source": [
    "df['life_expectancy'].min()"
   ]
  },
  {
   "cell_type": "code",
   "execution_count": 49,
   "metadata": {},
   "outputs": [
    {
     "data": {
      "text/plain": [
       "38.12300000000001"
      ]
     },
     "execution_count": 49,
     "metadata": {},
     "output_type": "execute_result"
    }
   ],
   "source": [
    "# can drop brackets/quotes IF THERE ARE NO SPACES\n",
    "df.life_expectancy.min()"
   ]
  },
  {
   "cell_type": "code",
   "execution_count": 71,
   "metadata": {},
   "outputs": [
    {
     "data": {
      "text/plain": [
       "6115042358"
      ]
     },
     "execution_count": 71,
     "metadata": {},
     "output_type": "execute_result"
    }
   ],
   "source": [
    "df.Population.sum()"
   ]
  },
  {
   "cell_type": "code",
   "execution_count": 55,
   "metadata": {},
   "outputs": [
    {
     "data": {
      "text/plain": [
       "70.04150000000001"
      ]
     },
     "execution_count": 55,
     "metadata": {},
     "output_type": "execute_result"
    }
   ],
   "source": [
    "# Get median\n",
    "import statistics\n",
    "df.life_expectancy.median()"
   ]
  },
  {
   "cell_type": "code",
   "execution_count": 70,
   "metadata": {},
   "outputs": [
    {
     "data": {
      "text/plain": [
       "66.50153603526596"
      ]
     },
     "execution_count": 70,
     "metadata": {},
     "output_type": "execute_result"
    }
   ],
   "source": [
    "df.life_expectancy.mean()"
   ]
  },
  {
   "cell_type": "code",
   "execution_count": null,
   "metadata": {},
   "outputs": [],
   "source": [
    "# Lazy numbers:\n",
    "df.life_expectancy.describe()"
   ]
  },
  {
   "cell_type": "code",
   "execution_count": 59,
   "metadata": {},
   "outputs": [
    {
     "data": {
      "text/plain": [
       "count      188.000000\n",
       "mean      9977.558511\n",
       "std      11953.393378\n",
       "min        292.000000\n",
       "25%       1732.500000\n",
       "50%       5290.500000\n",
       "75%      12701.250000\n",
       "max      63924.000000\n",
       "Name: GDP_per_capita, dtype: float64"
      ]
     },
     "execution_count": 59,
     "metadata": {},
     "output_type": "execute_result"
    }
   ],
   "source": [
    "df.GDP_per_capita.describe()"
   ]
  },
  {
   "cell_type": "code",
   "execution_count": 60,
   "metadata": {},
   "outputs": [
    {
     "data": {
      "text/html": [
       "<div>\n",
       "<style scoped>\n",
       "    .dataframe tbody tr th:only-of-type {\n",
       "        vertical-align: middle;\n",
       "    }\n",
       "\n",
       "    .dataframe tbody tr th {\n",
       "        vertical-align: top;\n",
       "    }\n",
       "\n",
       "    .dataframe thead th {\n",
       "        text-align: right;\n",
       "    }\n",
       "</style>\n",
       "<table border=\"1\" class=\"dataframe\">\n",
       "  <thead>\n",
       "    <tr style=\"text-align: right;\">\n",
       "      <th></th>\n",
       "      <th>GDP_per_capita</th>\n",
       "      <th>life_expectancy</th>\n",
       "      <th>Population</th>\n",
       "    </tr>\n",
       "  </thead>\n",
       "  <tbody>\n",
       "    <tr>\n",
       "      <th>count</th>\n",
       "      <td>188.000000</td>\n",
       "      <td>188.000000</td>\n",
       "      <td>1.880000e+02</td>\n",
       "    </tr>\n",
       "    <tr>\n",
       "      <th>mean</th>\n",
       "      <td>9977.558511</td>\n",
       "      <td>66.501536</td>\n",
       "      <td>3.252682e+07</td>\n",
       "    </tr>\n",
       "    <tr>\n",
       "      <th>std</th>\n",
       "      <td>11953.393378</td>\n",
       "      <td>10.298458</td>\n",
       "      <td>1.237952e+08</td>\n",
       "    </tr>\n",
       "    <tr>\n",
       "      <th>min</th>\n",
       "      <td>292.000000</td>\n",
       "      <td>38.123000</td>\n",
       "      <td>5.619600e+04</td>\n",
       "    </tr>\n",
       "    <tr>\n",
       "      <th>25%</th>\n",
       "      <td>1732.500000</td>\n",
       "      <td>59.663750</td>\n",
       "      <td>2.003170e+06</td>\n",
       "    </tr>\n",
       "    <tr>\n",
       "      <th>50%</th>\n",
       "      <td>5290.500000</td>\n",
       "      <td>70.041500</td>\n",
       "      <td>6.888970e+06</td>\n",
       "    </tr>\n",
       "    <tr>\n",
       "      <th>75%</th>\n",
       "      <td>12701.250000</td>\n",
       "      <td>74.134500</td>\n",
       "      <td>2.218517e+07</td>\n",
       "    </tr>\n",
       "    <tr>\n",
       "      <th>max</th>\n",
       "      <td>63924.000000</td>\n",
       "      <td>81.350000</td>\n",
       "      <td>1.269117e+09</td>\n",
       "    </tr>\n",
       "  </tbody>\n",
       "</table>\n",
       "</div>"
      ],
      "text/plain": [
       "       GDP_per_capita  life_expectancy    Population\n",
       "count      188.000000       188.000000  1.880000e+02\n",
       "mean      9977.558511        66.501536  3.252682e+07\n",
       "std      11953.393378        10.298458  1.237952e+08\n",
       "min        292.000000        38.123000  5.619600e+04\n",
       "25%       1732.500000        59.663750  2.003170e+06\n",
       "50%       5290.500000        70.041500  6.888970e+06\n",
       "75%      12701.250000        74.134500  2.218517e+07\n",
       "max      63924.000000        81.350000  1.269117e+09"
      ]
     },
     "execution_count": 60,
     "metadata": {},
     "output_type": "execute_result"
    }
   ],
   "source": [
    "# lazy numbers for EVERYTHING \n",
    "# But note, it can't do anything with Countries & Continents. Those are categories.\n",
    "df.describe()"
   ]
  },
  {
   "cell_type": "code",
   "execution_count": null,
   "metadata": {},
   "outputs": [],
   "source": [
    "# Dataframe vs Series"
   ]
  },
  {
   "cell_type": "code",
   "execution_count": 62,
   "metadata": {},
   "outputs": [
    {
     "data": {
      "text/plain": [
       "pandas.core.frame.DataFrame"
      ]
     },
     "execution_count": 62,
     "metadata": {},
     "output_type": "execute_result"
    }
   ],
   "source": [
    "type(df.describe())"
   ]
  },
  {
   "cell_type": "code",
   "execution_count": 61,
   "metadata": {},
   "outputs": [
    {
     "data": {
      "text/plain": [
       "pandas.core.series.Series"
      ]
     },
     "execution_count": 61,
     "metadata": {},
     "output_type": "execute_result"
    }
   ],
   "source": [
    "type(df.GDP_per_capita.describe())"
   ]
  },
  {
   "cell_type": "code",
   "execution_count": 67,
   "metadata": {},
   "outputs": [
    {
     "data": {
      "text/html": [
       "<div>\n",
       "<style scoped>\n",
       "    .dataframe tbody tr th:only-of-type {\n",
       "        vertical-align: middle;\n",
       "    }\n",
       "\n",
       "    .dataframe tbody tr th {\n",
       "        vertical-align: top;\n",
       "    }\n",
       "\n",
       "    .dataframe thead th {\n",
       "        text-align: right;\n",
       "    }\n",
       "</style>\n",
       "<table border=\"1\" class=\"dataframe\">\n",
       "  <thead>\n",
       "    <tr style=\"text-align: right;\">\n",
       "      <th></th>\n",
       "      <th>GDP_per_capita</th>\n",
       "      <th>life_expectancy</th>\n",
       "    </tr>\n",
       "  </thead>\n",
       "  <tbody>\n",
       "    <tr>\n",
       "      <th>0</th>\n",
       "      <td>663</td>\n",
       "      <td>54.863</td>\n",
       "    </tr>\n",
       "    <tr>\n",
       "      <th>1</th>\n",
       "      <td>4195</td>\n",
       "      <td>74.200</td>\n",
       "    </tr>\n",
       "    <tr>\n",
       "      <th>2</th>\n",
       "      <td>5098</td>\n",
       "      <td>68.963</td>\n",
       "    </tr>\n",
       "    <tr>\n",
       "      <th>3</th>\n",
       "      <td>2446</td>\n",
       "      <td>45.234</td>\n",
       "    </tr>\n",
       "    <tr>\n",
       "      <th>4</th>\n",
       "      <td>12738</td>\n",
       "      <td>73.544</td>\n",
       "    </tr>\n",
       "  </tbody>\n",
       "</table>\n",
       "</div>"
      ],
      "text/plain": [
       "   GDP_per_capita  life_expectancy\n",
       "0             663           54.863\n",
       "1            4195           74.200\n",
       "2            5098           68.963\n",
       "3            2446           45.234\n",
       "4           12738           73.544"
      ]
     },
     "execution_count": 67,
     "metadata": {},
     "output_type": "execute_result"
    }
   ],
   "source": [
    "# for multiple columns, double brackets \n",
    "df[['GDP_per_capita','life_expectancy']].head()"
   ]
  },
  {
   "cell_type": "code",
   "execution_count": 69,
   "metadata": {},
   "outputs": [
    {
     "data": {
      "text/plain": [
       "Africa        54\n",
       "Asia          48\n",
       "Europe        42\n",
       "N. America    22\n",
       "S. America    12\n",
       "Oceania       10\n",
       "Name: Continent, dtype: int64"
      ]
     },
     "execution_count": 69,
     "metadata": {},
     "output_type": "execute_result"
    }
   ],
   "source": [
    "# to count categories, use .value_counts() not len, sum, wacky loops\n",
    "df.Continent.value_counts()"
   ]
  },
  {
   "cell_type": "code",
   "execution_count": 72,
   "metadata": {},
   "outputs": [],
   "source": [
    "# use question mark to open help menu on function / method / whatever\n",
    "df.groupby?"
   ]
  },
  {
   "cell_type": "code",
   "execution_count": 74,
   "metadata": {},
   "outputs": [
    {
     "data": {
      "text/plain": [
       "<pandas.core.groupby.generic.DataFrameGroupBy object at 0x0FFE58B0>"
      ]
     },
     "execution_count": 74,
     "metadata": {},
     "output_type": "execute_result"
    }
   ],
   "source": [
    "df.groupby(by='Continent')"
   ]
  },
  {
   "cell_type": "code",
   "execution_count": 78,
   "metadata": {},
   "outputs": [
    {
     "data": {
      "text/plain": [
       "Continent\n",
       "Africa         1246.5\n",
       "Asia           3799.5\n",
       "Europe        18111.0\n",
       "N. America     7538.5\n",
       "Oceania        3973.0\n",
       "S. America     5770.0\n",
       "Name: GDP_per_capita, dtype: float64"
      ]
     },
     "execution_count": 78,
     "metadata": {},
     "output_type": "execute_result"
    }
   ],
   "source": [
    "df.groupby(by='Continent').GDP_per_capita.median()"
   ]
  },
  {
   "cell_type": "code",
   "execution_count": 84,
   "metadata": {},
   "outputs": [
    {
     "data": {
      "text/plain": [
       "Continent\n",
       "Africa         123688536\n",
       "Asia          1269116737\n",
       "Europe          82349027\n",
       "N. America     282496310\n",
       "Oceania         19164351\n",
       "S. America     174425387\n",
       "Name: Population, dtype: int64"
      ]
     },
     "execution_count": 84,
     "metadata": {},
     "output_type": "execute_result"
    }
   ],
   "source": [
    "df.groupby(by='Continent').Population.max()"
   ]
  },
  {
   "cell_type": "code",
   "execution_count": 89,
   "metadata": {},
   "outputs": [
    {
     "data": {
      "text/plain": [
       "Continent\n",
       "Asia      3849172861\n",
       "Africa     809892820\n",
       "Europe     596440013\n",
       "Name: Population, dtype: int64"
      ]
     },
     "execution_count": 89,
     "metadata": {},
     "output_type": "execute_result"
    }
   ],
   "source": [
    "df.groupby(by='Continent').Population.sum().sort_values(ascending=False).head(3)"
   ]
  },
  {
   "cell_type": "code",
   "execution_count": 85,
   "metadata": {},
   "outputs": [],
   "source": [
    "# For extra-long lines of code, can use \\ to force new line.\n",
    "# Doesn't effect code, just makes cleaner"
   ]
  },
  {
   "cell_type": "code",
   "execution_count": 91,
   "metadata": {},
   "outputs": [
    {
     "data": {
      "text/plain": [
       "Continent\n",
       "Asia      3849172861\n",
       "Africa     809892820\n",
       "Europe     596440013\n",
       "Name: Population, dtype: int64"
      ]
     },
     "execution_count": 91,
     "metadata": {},
     "output_type": "execute_result"
    }
   ],
   "source": [
    "df.groupby(by='Continent') \\\n",
    "    .Population.sum() \\\n",
    "    .sort_values(ascending=False).head(3)"
   ]
  },
  {
   "cell_type": "code",
   "execution_count": 99,
   "metadata": {},
   "outputs": [],
   "source": [
    "# normal math is simple\n",
    "df.GDP_per_capita * 1000"
   ]
  },
  {
   "cell_type": "code",
   "execution_count": 100,
   "metadata": {},
   "outputs": [],
   "source": [
    "# math between columns = \n",
    "df.Population * df.GDP_per_capita"
   ]
  },
  {
   "cell_type": "code",
   "execution_count": 102,
   "metadata": {},
   "outputs": [
    {
     "data": {
      "text/html": [
       "<div>\n",
       "<style scoped>\n",
       "    .dataframe tbody tr th:only-of-type {\n",
       "        vertical-align: middle;\n",
       "    }\n",
       "\n",
       "    .dataframe tbody tr th {\n",
       "        vertical-align: top;\n",
       "    }\n",
       "\n",
       "    .dataframe thead th {\n",
       "        text-align: right;\n",
       "    }\n",
       "</style>\n",
       "<table border=\"1\" class=\"dataframe\">\n",
       "  <thead>\n",
       "    <tr style=\"text-align: right;\">\n",
       "      <th></th>\n",
       "      <th>Country</th>\n",
       "      <th>Continent</th>\n",
       "      <th>GDP_per_capita</th>\n",
       "      <th>life_expectancy</th>\n",
       "      <th>Population</th>\n",
       "      <th>GDP_gross</th>\n",
       "    </tr>\n",
       "  </thead>\n",
       "  <tbody>\n",
       "    <tr>\n",
       "      <th>0</th>\n",
       "      <td>Afghanistan</td>\n",
       "      <td>Asia</td>\n",
       "      <td>663</td>\n",
       "      <td>54.863</td>\n",
       "      <td>22856302</td>\n",
       "      <td>10</td>\n",
       "    </tr>\n",
       "    <tr>\n",
       "      <th>1</th>\n",
       "      <td>Albania</td>\n",
       "      <td>Europe</td>\n",
       "      <td>4195</td>\n",
       "      <td>74.200</td>\n",
       "      <td>3071856</td>\n",
       "      <td>10</td>\n",
       "    </tr>\n",
       "    <tr>\n",
       "      <th>2</th>\n",
       "      <td>Algeria</td>\n",
       "      <td>Africa</td>\n",
       "      <td>5098</td>\n",
       "      <td>68.963</td>\n",
       "      <td>30533827</td>\n",
       "      <td>10</td>\n",
       "    </tr>\n",
       "    <tr>\n",
       "      <th>3</th>\n",
       "      <td>Angola</td>\n",
       "      <td>Africa</td>\n",
       "      <td>2446</td>\n",
       "      <td>45.234</td>\n",
       "      <td>13926373</td>\n",
       "      <td>10</td>\n",
       "    </tr>\n",
       "    <tr>\n",
       "      <th>4</th>\n",
       "      <td>Antigua and Barbuda</td>\n",
       "      <td>N. America</td>\n",
       "      <td>12738</td>\n",
       "      <td>73.544</td>\n",
       "      <td>77656</td>\n",
       "      <td>10</td>\n",
       "    </tr>\n",
       "  </tbody>\n",
       "</table>\n",
       "</div>"
      ],
      "text/plain": [
       "               Country   Continent  GDP_per_capita  life_expectancy  \\\n",
       "0          Afghanistan        Asia             663           54.863   \n",
       "1              Albania      Europe            4195           74.200   \n",
       "2              Algeria      Africa            5098           68.963   \n",
       "3               Angola      Africa            2446           45.234   \n",
       "4  Antigua and Barbuda  N. America           12738           73.544   \n",
       "\n",
       "   Population  GDP_gross  \n",
       "0    22856302         10  \n",
       "1     3071856         10  \n",
       "2    30533827         10  \n",
       "3    13926373         10  \n",
       "4       77656         10  "
      ]
     },
     "execution_count": 102,
     "metadata": {},
     "output_type": "execute_result"
    }
   ],
   "source": [
    "# To add a new column\n",
    "# kinda normal, like python\n",
    "df['GDP_gross'] = 10\n",
    "df.head()"
   ]
  },
  {
   "cell_type": "code",
   "execution_count": 103,
   "metadata": {},
   "outputs": [
    {
     "data": {
      "text/html": [
       "<div>\n",
       "<style scoped>\n",
       "    .dataframe tbody tr th:only-of-type {\n",
       "        vertical-align: middle;\n",
       "    }\n",
       "\n",
       "    .dataframe tbody tr th {\n",
       "        vertical-align: top;\n",
       "    }\n",
       "\n",
       "    .dataframe thead th {\n",
       "        text-align: right;\n",
       "    }\n",
       "</style>\n",
       "<table border=\"1\" class=\"dataframe\">\n",
       "  <thead>\n",
       "    <tr style=\"text-align: right;\">\n",
       "      <th></th>\n",
       "      <th>Country</th>\n",
       "      <th>Continent</th>\n",
       "      <th>GDP_per_capita</th>\n",
       "      <th>life_expectancy</th>\n",
       "      <th>Population</th>\n",
       "      <th>GDP_gross</th>\n",
       "    </tr>\n",
       "  </thead>\n",
       "  <tbody>\n",
       "    <tr>\n",
       "      <th>0</th>\n",
       "      <td>Afghanistan</td>\n",
       "      <td>Asia</td>\n",
       "      <td>663</td>\n",
       "      <td>54.863</td>\n",
       "      <td>22856302</td>\n",
       "      <td>15153728226</td>\n",
       "    </tr>\n",
       "    <tr>\n",
       "      <th>1</th>\n",
       "      <td>Albania</td>\n",
       "      <td>Europe</td>\n",
       "      <td>4195</td>\n",
       "      <td>74.200</td>\n",
       "      <td>3071856</td>\n",
       "      <td>12886435920</td>\n",
       "    </tr>\n",
       "    <tr>\n",
       "      <th>2</th>\n",
       "      <td>Algeria</td>\n",
       "      <td>Africa</td>\n",
       "      <td>5098</td>\n",
       "      <td>68.963</td>\n",
       "      <td>30533827</td>\n",
       "      <td>155661450046</td>\n",
       "    </tr>\n",
       "    <tr>\n",
       "      <th>3</th>\n",
       "      <td>Angola</td>\n",
       "      <td>Africa</td>\n",
       "      <td>2446</td>\n",
       "      <td>45.234</td>\n",
       "      <td>13926373</td>\n",
       "      <td>34063908358</td>\n",
       "    </tr>\n",
       "    <tr>\n",
       "      <th>4</th>\n",
       "      <td>Antigua and Barbuda</td>\n",
       "      <td>N. America</td>\n",
       "      <td>12738</td>\n",
       "      <td>73.544</td>\n",
       "      <td>77656</td>\n",
       "      <td>989182128</td>\n",
       "    </tr>\n",
       "  </tbody>\n",
       "</table>\n",
       "</div>"
      ],
      "text/plain": [
       "               Country   Continent  GDP_per_capita  life_expectancy  \\\n",
       "0          Afghanistan        Asia             663           54.863   \n",
       "1              Albania      Europe            4195           74.200   \n",
       "2              Algeria      Africa            5098           68.963   \n",
       "3               Angola      Africa            2446           45.234   \n",
       "4  Antigua and Barbuda  N. America           12738           73.544   \n",
       "\n",
       "   Population     GDP_gross  \n",
       "0    22856302   15153728226  \n",
       "1     3071856   12886435920  \n",
       "2    30533827  155661450046  \n",
       "3    13926373   34063908358  \n",
       "4       77656     989182128  "
      ]
     },
     "execution_count": 103,
     "metadata": {},
     "output_type": "execute_result"
    }
   ],
   "source": [
    "# To add a new column using math or whatever\n",
    "df['GDP_gross'] = df.Population * df.GDP_per_capita\n",
    "df.head()"
   ]
  },
  {
   "cell_type": "code",
   "execution_count": null,
   "metadata": {},
   "outputs": [],
   "source": [
    "# This provides just a list of whether true or false\n",
    "df.Continent == 'Asia'"
   ]
  },
  {
   "cell_type": "code",
   "execution_count": 104,
   "metadata": {},
   "outputs": [
    {
     "data": {
      "text/html": [
       "<div>\n",
       "<style scoped>\n",
       "    .dataframe tbody tr th:only-of-type {\n",
       "        vertical-align: middle;\n",
       "    }\n",
       "\n",
       "    .dataframe tbody tr th {\n",
       "        vertical-align: top;\n",
       "    }\n",
       "\n",
       "    .dataframe thead th {\n",
       "        text-align: right;\n",
       "    }\n",
       "</style>\n",
       "<table border=\"1\" class=\"dataframe\">\n",
       "  <thead>\n",
       "    <tr style=\"text-align: right;\">\n",
       "      <th></th>\n",
       "      <th>Country</th>\n",
       "      <th>Continent</th>\n",
       "      <th>GDP_per_capita</th>\n",
       "      <th>life_expectancy</th>\n",
       "      <th>Population</th>\n",
       "      <th>GDP_gross</th>\n",
       "    </tr>\n",
       "  </thead>\n",
       "  <tbody>\n",
       "    <tr>\n",
       "      <th>0</th>\n",
       "      <td>Afghanistan</td>\n",
       "      <td>Asia</td>\n",
       "      <td>663</td>\n",
       "      <td>54.863</td>\n",
       "      <td>22856302</td>\n",
       "      <td>15153728226</td>\n",
       "    </tr>\n",
       "    <tr>\n",
       "      <th>11</th>\n",
       "      <td>Bahrain</td>\n",
       "      <td>Asia</td>\n",
       "      <td>22015</td>\n",
       "      <td>74.497</td>\n",
       "      <td>638193</td>\n",
       "      <td>14049818895</td>\n",
       "    </tr>\n",
       "    <tr>\n",
       "      <th>12</th>\n",
       "      <td>Bangladesh</td>\n",
       "      <td>Asia</td>\n",
       "      <td>1075</td>\n",
       "      <td>65.309</td>\n",
       "      <td>129592275</td>\n",
       "      <td>139311695625</td>\n",
       "    </tr>\n",
       "    <tr>\n",
       "      <th>18</th>\n",
       "      <td>Bhutan</td>\n",
       "      <td>Asia</td>\n",
       "      <td>2922</td>\n",
       "      <td>60.307</td>\n",
       "      <td>571262</td>\n",
       "      <td>1669227564</td>\n",
       "    </tr>\n",
       "    <tr>\n",
       "      <th>23</th>\n",
       "      <td>Brunei</td>\n",
       "      <td>Asia</td>\n",
       "      <td>48020</td>\n",
       "      <td>75.927</td>\n",
       "      <td>327036</td>\n",
       "      <td>15704268720</td>\n",
       "    </tr>\n",
       "    <tr>\n",
       "      <th>27</th>\n",
       "      <td>Cambodia</td>\n",
       "      <td>Asia</td>\n",
       "      <td>982</td>\n",
       "      <td>62.030</td>\n",
       "      <td>12446949</td>\n",
       "      <td>12222903918</td>\n",
       "    </tr>\n",
       "    <tr>\n",
       "      <th>34</th>\n",
       "      <td>China</td>\n",
       "      <td>Asia</td>\n",
       "      <td>3407</td>\n",
       "      <td>72.124</td>\n",
       "      <td>1269116737</td>\n",
       "      <td>4323880722959</td>\n",
       "    </tr>\n",
       "    <tr>\n",
       "      <th>72</th>\n",
       "      <td>Hong Kong, China</td>\n",
       "      <td>Asia</td>\n",
       "      <td>29972</td>\n",
       "      <td>80.361</td>\n",
       "      <td>6783317</td>\n",
       "      <td>203309577124</td>\n",
       "    </tr>\n",
       "    <tr>\n",
       "      <th>75</th>\n",
       "      <td>India</td>\n",
       "      <td>Asia</td>\n",
       "      <td>1648</td>\n",
       "      <td>62.129</td>\n",
       "      <td>1053898107</td>\n",
       "      <td>1736824080336</td>\n",
       "    </tr>\n",
       "    <tr>\n",
       "      <th>76</th>\n",
       "      <td>Indonesia</td>\n",
       "      <td>Asia</td>\n",
       "      <td>2714</td>\n",
       "      <td>67.289</td>\n",
       "      <td>213395411</td>\n",
       "      <td>579155145454</td>\n",
       "    </tr>\n",
       "    <tr>\n",
       "      <th>77</th>\n",
       "      <td>Iran</td>\n",
       "      <td>Asia</td>\n",
       "      <td>8600</td>\n",
       "      <td>69.611</td>\n",
       "      <td>65342319</td>\n",
       "      <td>561943943400</td>\n",
       "    </tr>\n",
       "    <tr>\n",
       "      <th>78</th>\n",
       "      <td>Iraq</td>\n",
       "      <td>Asia</td>\n",
       "      <td>3951</td>\n",
       "      <td>70.845</td>\n",
       "      <td>23857458</td>\n",
       "      <td>94260816558</td>\n",
       "    </tr>\n",
       "    <tr>\n",
       "      <th>80</th>\n",
       "      <td>Israel</td>\n",
       "      <td>Asia</td>\n",
       "      <td>22834</td>\n",
       "      <td>78.750</td>\n",
       "      <td>6014953</td>\n",
       "      <td>137345436802</td>\n",
       "    </tr>\n",
       "    <tr>\n",
       "      <th>83</th>\n",
       "      <td>Japan</td>\n",
       "      <td>Asia</td>\n",
       "      <td>28559</td>\n",
       "      <td>81.350</td>\n",
       "      <td>125720310</td>\n",
       "      <td>3590446333290</td>\n",
       "    </tr>\n",
       "    <tr>\n",
       "      <th>84</th>\n",
       "      <td>Jordan</td>\n",
       "      <td>Asia</td>\n",
       "      <td>3664</td>\n",
       "      <td>71.724</td>\n",
       "      <td>4827096</td>\n",
       "      <td>17686479744</td>\n",
       "    </tr>\n",
       "    <tr>\n",
       "      <th>85</th>\n",
       "      <td>Kazakhstan</td>\n",
       "      <td>Asia</td>\n",
       "      <td>5366</td>\n",
       "      <td>63.513</td>\n",
       "      <td>14956694</td>\n",
       "      <td>80257620004</td>\n",
       "    </tr>\n",
       "    <tr>\n",
       "      <th>88</th>\n",
       "      <td>Korea, Dem. Rep.</td>\n",
       "      <td>Asia</td>\n",
       "      <td>1689</td>\n",
       "      <td>65.271</td>\n",
       "      <td>22894095</td>\n",
       "      <td>38668126455</td>\n",
       "    </tr>\n",
       "    <tr>\n",
       "      <th>89</th>\n",
       "      <td>Korea, Rep.</td>\n",
       "      <td>Asia</td>\n",
       "      <td>16995</td>\n",
       "      <td>76.114</td>\n",
       "      <td>45987624</td>\n",
       "      <td>781559669880</td>\n",
       "    </tr>\n",
       "    <tr>\n",
       "      <th>90</th>\n",
       "      <td>Kuwait</td>\n",
       "      <td>Asia</td>\n",
       "      <td>36397</td>\n",
       "      <td>73.133</td>\n",
       "      <td>1940786</td>\n",
       "      <td>70638788042</td>\n",
       "    </tr>\n",
       "    <tr>\n",
       "      <th>91</th>\n",
       "      <td>Kyrgyzstan</td>\n",
       "      <td>Asia</td>\n",
       "      <td>1527</td>\n",
       "      <td>66.232</td>\n",
       "      <td>4954850</td>\n",
       "      <td>7566055950</td>\n",
       "    </tr>\n",
       "    <tr>\n",
       "      <th>92</th>\n",
       "      <td>Laos</td>\n",
       "      <td>Asia</td>\n",
       "      <td>1518</td>\n",
       "      <td>61.689</td>\n",
       "      <td>5317060</td>\n",
       "      <td>8071297080</td>\n",
       "    </tr>\n",
       "    <tr>\n",
       "      <th>94</th>\n",
       "      <td>Lebanon</td>\n",
       "      <td>Asia</td>\n",
       "      <td>5795</td>\n",
       "      <td>74.409</td>\n",
       "      <td>3742329</td>\n",
       "      <td>21686796555</td>\n",
       "    </tr>\n",
       "    <tr>\n",
       "      <th>100</th>\n",
       "      <td>Macao, China</td>\n",
       "      <td>Asia</td>\n",
       "      <td>22512</td>\n",
       "      <td>77.627</td>\n",
       "      <td>431867</td>\n",
       "      <td>9722189904</td>\n",
       "    </tr>\n",
       "    <tr>\n",
       "      <th>104</th>\n",
       "      <td>Malaysia</td>\n",
       "      <td>Asia</td>\n",
       "      <td>10161</td>\n",
       "      <td>72.810</td>\n",
       "      <td>23414909</td>\n",
       "      <td>237918890349</td>\n",
       "    </tr>\n",
       "    <tr>\n",
       "      <th>105</th>\n",
       "      <td>Maldives</td>\n",
       "      <td>Asia</td>\n",
       "      <td>3433</td>\n",
       "      <td>69.279</td>\n",
       "      <td>273236</td>\n",
       "      <td>938019188</td>\n",
       "    </tr>\n",
       "    <tr>\n",
       "      <th>113</th>\n",
       "      <td>Mongolia</td>\n",
       "      <td>Asia</td>\n",
       "      <td>2017</td>\n",
       "      <td>62.876</td>\n",
       "      <td>2411369</td>\n",
       "      <td>4863731273</td>\n",
       "    </tr>\n",
       "    <tr>\n",
       "      <th>117</th>\n",
       "      <td>Myanmar</td>\n",
       "      <td>Asia</td>\n",
       "      <td>1034</td>\n",
       "      <td>62.073</td>\n",
       "      <td>44957660</td>\n",
       "      <td>46486220440</td>\n",
       "    </tr>\n",
       "    <tr>\n",
       "      <th>119</th>\n",
       "      <td>Nepal</td>\n",
       "      <td>Asia</td>\n",
       "      <td>1054</td>\n",
       "      <td>62.055</td>\n",
       "      <td>24400606</td>\n",
       "      <td>25718238724</td>\n",
       "    </tr>\n",
       "    <tr>\n",
       "      <th>126</th>\n",
       "      <td>Oman</td>\n",
       "      <td>Asia</td>\n",
       "      <td>19204</td>\n",
       "      <td>72.139</td>\n",
       "      <td>2264163</td>\n",
       "      <td>43480986252</td>\n",
       "    </tr>\n",
       "    <tr>\n",
       "      <th>127</th>\n",
       "      <td>Pakistan</td>\n",
       "      <td>Asia</td>\n",
       "      <td>2086</td>\n",
       "      <td>63.854</td>\n",
       "      <td>144522192</td>\n",
       "      <td>301473292512</td>\n",
       "    </tr>\n",
       "    <tr>\n",
       "      <th>132</th>\n",
       "      <td>Philippines</td>\n",
       "      <td>Asia</td>\n",
       "      <td>2598</td>\n",
       "      <td>66.774</td>\n",
       "      <td>77309965</td>\n",
       "      <td>200851289070</td>\n",
       "    </tr>\n",
       "    <tr>\n",
       "      <th>135</th>\n",
       "      <td>Qatar</td>\n",
       "      <td>Asia</td>\n",
       "      <td>60394</td>\n",
       "      <td>76.680</td>\n",
       "      <td>590957</td>\n",
       "      <td>35690257058</td>\n",
       "    </tr>\n",
       "    <tr>\n",
       "      <th>137</th>\n",
       "      <td>Russia</td>\n",
       "      <td>Asia</td>\n",
       "      <td>8570</td>\n",
       "      <td>65.380</td>\n",
       "      <td>146757517</td>\n",
       "      <td>1257711920690</td>\n",
       "    </tr>\n",
       "    <tr>\n",
       "      <th>143</th>\n",
       "      <td>Saudi Arabia</td>\n",
       "      <td>Asia</td>\n",
       "      <td>20001</td>\n",
       "      <td>72.401</td>\n",
       "      <td>20045276</td>\n",
       "      <td>400925565276</td>\n",
       "    </tr>\n",
       "    <tr>\n",
       "      <th>148</th>\n",
       "      <td>Singapore</td>\n",
       "      <td>Asia</td>\n",
       "      <td>36834</td>\n",
       "      <td>78.340</td>\n",
       "      <td>3919300</td>\n",
       "      <td>144363496200</td>\n",
       "    </tr>\n",
       "    <tr>\n",
       "      <th>156</th>\n",
       "      <td>Sri Lanka</td>\n",
       "      <td>Asia</td>\n",
       "      <td>2997</td>\n",
       "      <td>71.078</td>\n",
       "      <td>18745084</td>\n",
       "      <td>56179016748</td>\n",
       "    </tr>\n",
       "    <tr>\n",
       "      <th>162</th>\n",
       "      <td>Syria</td>\n",
       "      <td>Asia</td>\n",
       "      <td>3935</td>\n",
       "      <td>73.316</td>\n",
       "      <td>15988534</td>\n",
       "      <td>62914881290</td>\n",
       "    </tr>\n",
       "    <tr>\n",
       "      <th>163</th>\n",
       "      <td>Taiwan</td>\n",
       "      <td>Asia</td>\n",
       "      <td>23525</td>\n",
       "      <td>76.020</td>\n",
       "      <td>22183000</td>\n",
       "      <td>521855075000</td>\n",
       "    </tr>\n",
       "    <tr>\n",
       "      <th>164</th>\n",
       "      <td>Tajikistan</td>\n",
       "      <td>Asia</td>\n",
       "      <td>1001</td>\n",
       "      <td>63.570</td>\n",
       "      <td>6172807</td>\n",
       "      <td>6178979807</td>\n",
       "    </tr>\n",
       "    <tr>\n",
       "      <th>166</th>\n",
       "      <td>Thailand</td>\n",
       "      <td>Asia</td>\n",
       "      <td>5578</td>\n",
       "      <td>70.921</td>\n",
       "      <td>63155029</td>\n",
       "      <td>352278751762</td>\n",
       "    </tr>\n",
       "    <tr>\n",
       "      <th>167</th>\n",
       "      <td>Timor-Leste</td>\n",
       "      <td>Asia</td>\n",
       "      <td>2743</td>\n",
       "      <td>59.468</td>\n",
       "      <td>830089</td>\n",
       "      <td>2276934127</td>\n",
       "    </tr>\n",
       "    <tr>\n",
       "      <th>172</th>\n",
       "      <td>Turkey</td>\n",
       "      <td>Asia</td>\n",
       "      <td>6803</td>\n",
       "      <td>70.010</td>\n",
       "      <td>63627862</td>\n",
       "      <td>432860345186</td>\n",
       "    </tr>\n",
       "    <tr>\n",
       "      <th>173</th>\n",
       "      <td>Turkmenistan</td>\n",
       "      <td>Asia</td>\n",
       "      <td>3289</td>\n",
       "      <td>63.925</td>\n",
       "      <td>4501419</td>\n",
       "      <td>14805167091</td>\n",
       "    </tr>\n",
       "    <tr>\n",
       "      <th>176</th>\n",
       "      <td>United Arab Emirates</td>\n",
       "      <td>Asia</td>\n",
       "      <td>30012</td>\n",
       "      <td>74.163</td>\n",
       "      <td>3033491</td>\n",
       "      <td>91041131892</td>\n",
       "    </tr>\n",
       "    <tr>\n",
       "      <th>180</th>\n",
       "      <td>Uzbekistan</td>\n",
       "      <td>Asia</td>\n",
       "      <td>1635</td>\n",
       "      <td>66.999</td>\n",
       "      <td>24775610</td>\n",
       "      <td>40508122350</td>\n",
       "    </tr>\n",
       "    <tr>\n",
       "      <th>183</th>\n",
       "      <td>Vietnam</td>\n",
       "      <td>Asia</td>\n",
       "      <td>1577</td>\n",
       "      <td>73.777</td>\n",
       "      <td>78758010</td>\n",
       "      <td>124201381770</td>\n",
       "    </tr>\n",
       "    <tr>\n",
       "      <th>184</th>\n",
       "      <td>West Bank and Gaza</td>\n",
       "      <td>Asia</td>\n",
       "      <td>7586</td>\n",
       "      <td>70.929</td>\n",
       "      <td>3198560</td>\n",
       "      <td>24264276160</td>\n",
       "    </tr>\n",
       "    <tr>\n",
       "      <th>185</th>\n",
       "      <td>Yemen, Rep.</td>\n",
       "      <td>Asia</td>\n",
       "      <td>2217</td>\n",
       "      <td>60.404</td>\n",
       "      <td>17723186</td>\n",
       "      <td>39292303362</td>\n",
       "    </tr>\n",
       "  </tbody>\n",
       "</table>\n",
       "</div>"
      ],
      "text/plain": [
       "                  Country Continent  GDP_per_capita  life_expectancy  \\\n",
       "0             Afghanistan      Asia             663           54.863   \n",
       "11                Bahrain      Asia           22015           74.497   \n",
       "12             Bangladesh      Asia            1075           65.309   \n",
       "18                 Bhutan      Asia            2922           60.307   \n",
       "23                 Brunei      Asia           48020           75.927   \n",
       "27               Cambodia      Asia             982           62.030   \n",
       "34                  China      Asia            3407           72.124   \n",
       "72       Hong Kong, China      Asia           29972           80.361   \n",
       "75                  India      Asia            1648           62.129   \n",
       "76              Indonesia      Asia            2714           67.289   \n",
       "77                   Iran      Asia            8600           69.611   \n",
       "78                   Iraq      Asia            3951           70.845   \n",
       "80                 Israel      Asia           22834           78.750   \n",
       "83                  Japan      Asia           28559           81.350   \n",
       "84                 Jordan      Asia            3664           71.724   \n",
       "85             Kazakhstan      Asia            5366           63.513   \n",
       "88       Korea, Dem. Rep.      Asia            1689           65.271   \n",
       "89            Korea, Rep.      Asia           16995           76.114   \n",
       "90                 Kuwait      Asia           36397           73.133   \n",
       "91             Kyrgyzstan      Asia            1527           66.232   \n",
       "92                   Laos      Asia            1518           61.689   \n",
       "94                Lebanon      Asia            5795           74.409   \n",
       "100          Macao, China      Asia           22512           77.627   \n",
       "104              Malaysia      Asia           10161           72.810   \n",
       "105              Maldives      Asia            3433           69.279   \n",
       "113              Mongolia      Asia            2017           62.876   \n",
       "117               Myanmar      Asia            1034           62.073   \n",
       "119                 Nepal      Asia            1054           62.055   \n",
       "126                  Oman      Asia           19204           72.139   \n",
       "127              Pakistan      Asia            2086           63.854   \n",
       "132           Philippines      Asia            2598           66.774   \n",
       "135                 Qatar      Asia           60394           76.680   \n",
       "137                Russia      Asia            8570           65.380   \n",
       "143          Saudi Arabia      Asia           20001           72.401   \n",
       "148             Singapore      Asia           36834           78.340   \n",
       "156             Sri Lanka      Asia            2997           71.078   \n",
       "162                 Syria      Asia            3935           73.316   \n",
       "163                Taiwan      Asia           23525           76.020   \n",
       "164            Tajikistan      Asia            1001           63.570   \n",
       "166              Thailand      Asia            5578           70.921   \n",
       "167           Timor-Leste      Asia            2743           59.468   \n",
       "172                Turkey      Asia            6803           70.010   \n",
       "173          Turkmenistan      Asia            3289           63.925   \n",
       "176  United Arab Emirates      Asia           30012           74.163   \n",
       "180            Uzbekistan      Asia            1635           66.999   \n",
       "183               Vietnam      Asia            1577           73.777   \n",
       "184    West Bank and Gaza      Asia            7586           70.929   \n",
       "185           Yemen, Rep.      Asia            2217           60.404   \n",
       "\n",
       "     Population      GDP_gross  \n",
       "0      22856302    15153728226  \n",
       "11       638193    14049818895  \n",
       "12    129592275   139311695625  \n",
       "18       571262     1669227564  \n",
       "23       327036    15704268720  \n",
       "27     12446949    12222903918  \n",
       "34   1269116737  4323880722959  \n",
       "72      6783317   203309577124  \n",
       "75   1053898107  1736824080336  \n",
       "76    213395411   579155145454  \n",
       "77     65342319   561943943400  \n",
       "78     23857458    94260816558  \n",
       "80      6014953   137345436802  \n",
       "83    125720310  3590446333290  \n",
       "84      4827096    17686479744  \n",
       "85     14956694    80257620004  \n",
       "88     22894095    38668126455  \n",
       "89     45987624   781559669880  \n",
       "90      1940786    70638788042  \n",
       "91      4954850     7566055950  \n",
       "92      5317060     8071297080  \n",
       "94      3742329    21686796555  \n",
       "100      431867     9722189904  \n",
       "104    23414909   237918890349  \n",
       "105      273236      938019188  \n",
       "113     2411369     4863731273  \n",
       "117    44957660    46486220440  \n",
       "119    24400606    25718238724  \n",
       "126     2264163    43480986252  \n",
       "127   144522192   301473292512  \n",
       "132    77309965   200851289070  \n",
       "135      590957    35690257058  \n",
       "137   146757517  1257711920690  \n",
       "143    20045276   400925565276  \n",
       "148     3919300   144363496200  \n",
       "156    18745084    56179016748  \n",
       "162    15988534    62914881290  \n",
       "163    22183000   521855075000  \n",
       "164     6172807     6178979807  \n",
       "166    63155029   352278751762  \n",
       "167      830089     2276934127  \n",
       "172    63627862   432860345186  \n",
       "173     4501419    14805167091  \n",
       "176     3033491    91041131892  \n",
       "180    24775610    40508122350  \n",
       "183    78758010   124201381770  \n",
       "184     3198560    24264276160  \n",
       "185    17723186    39292303362  "
      ]
     },
     "execution_count": 104,
     "metadata": {},
     "output_type": "execute_result"
    }
   ],
   "source": [
    "# This lists just those Asia countries\n",
    "df[df.Continent == 'Asia']"
   ]
  },
  {
   "cell_type": "code",
   "execution_count": 105,
   "metadata": {},
   "outputs": [
    {
     "data": {
      "text/plain": [
       "3849172861"
      ]
     },
     "execution_count": 105,
     "metadata": {},
     "output_type": "execute_result"
    }
   ],
   "source": [
    "# Get total pop of Asia:\n",
    "df[df.Continent == 'Asia'].Population.sum()\n",
    "# .sort_values(ascending=False).head(3)"
   ]
  },
  {
   "cell_type": "code",
   "execution_count": 106,
   "metadata": {},
   "outputs": [
    {
     "data": {
      "text/plain": [
       "3849.172861"
      ]
     },
     "execution_count": 106,
     "metadata": {},
     "output_type": "execute_result"
    }
   ],
   "source": [
    "# Get total pop of Asia in millions:\n",
    "df[df.Continent == 'Asia'].Population.sum() / 1000000"
   ]
  },
  {
   "cell_type": "code",
   "execution_count": 107,
   "metadata": {},
   "outputs": [],
   "source": [
    "# Two variables:\n",
    "# DON'T USE THIS  it uses python language in pandas\n",
    "# AND is &\n",
    "# OR is |  (pipe)\n",
    "# df[df.Continent == 'Asia' and df.Population < 5000000]"
   ]
  },
  {
   "cell_type": "code",
   "execution_count": 109,
   "metadata": {},
   "outputs": [
    {
     "data": {
      "text/html": [
       "<div>\n",
       "<style scoped>\n",
       "    .dataframe tbody tr th:only-of-type {\n",
       "        vertical-align: middle;\n",
       "    }\n",
       "\n",
       "    .dataframe tbody tr th {\n",
       "        vertical-align: top;\n",
       "    }\n",
       "\n",
       "    .dataframe thead th {\n",
       "        text-align: right;\n",
       "    }\n",
       "</style>\n",
       "<table border=\"1\" class=\"dataframe\">\n",
       "  <thead>\n",
       "    <tr style=\"text-align: right;\">\n",
       "      <th></th>\n",
       "      <th>Country</th>\n",
       "      <th>Continent</th>\n",
       "      <th>GDP_per_capita</th>\n",
       "      <th>life_expectancy</th>\n",
       "      <th>Population</th>\n",
       "      <th>GDP_gross</th>\n",
       "    </tr>\n",
       "  </thead>\n",
       "  <tbody>\n",
       "    <tr>\n",
       "      <th>11</th>\n",
       "      <td>Bahrain</td>\n",
       "      <td>Asia</td>\n",
       "      <td>22015</td>\n",
       "      <td>74.497</td>\n",
       "      <td>638193</td>\n",
       "      <td>14049818895</td>\n",
       "    </tr>\n",
       "    <tr>\n",
       "      <th>18</th>\n",
       "      <td>Bhutan</td>\n",
       "      <td>Asia</td>\n",
       "      <td>2922</td>\n",
       "      <td>60.307</td>\n",
       "      <td>571262</td>\n",
       "      <td>1669227564</td>\n",
       "    </tr>\n",
       "    <tr>\n",
       "      <th>23</th>\n",
       "      <td>Brunei</td>\n",
       "      <td>Asia</td>\n",
       "      <td>48020</td>\n",
       "      <td>75.927</td>\n",
       "      <td>327036</td>\n",
       "      <td>15704268720</td>\n",
       "    </tr>\n",
       "    <tr>\n",
       "      <th>84</th>\n",
       "      <td>Jordan</td>\n",
       "      <td>Asia</td>\n",
       "      <td>3664</td>\n",
       "      <td>71.724</td>\n",
       "      <td>4827096</td>\n",
       "      <td>17686479744</td>\n",
       "    </tr>\n",
       "    <tr>\n",
       "      <th>90</th>\n",
       "      <td>Kuwait</td>\n",
       "      <td>Asia</td>\n",
       "      <td>36397</td>\n",
       "      <td>73.133</td>\n",
       "      <td>1940786</td>\n",
       "      <td>70638788042</td>\n",
       "    </tr>\n",
       "    <tr>\n",
       "      <th>91</th>\n",
       "      <td>Kyrgyzstan</td>\n",
       "      <td>Asia</td>\n",
       "      <td>1527</td>\n",
       "      <td>66.232</td>\n",
       "      <td>4954850</td>\n",
       "      <td>7566055950</td>\n",
       "    </tr>\n",
       "    <tr>\n",
       "      <th>94</th>\n",
       "      <td>Lebanon</td>\n",
       "      <td>Asia</td>\n",
       "      <td>5795</td>\n",
       "      <td>74.409</td>\n",
       "      <td>3742329</td>\n",
       "      <td>21686796555</td>\n",
       "    </tr>\n",
       "    <tr>\n",
       "      <th>100</th>\n",
       "      <td>Macao, China</td>\n",
       "      <td>Asia</td>\n",
       "      <td>22512</td>\n",
       "      <td>77.627</td>\n",
       "      <td>431867</td>\n",
       "      <td>9722189904</td>\n",
       "    </tr>\n",
       "    <tr>\n",
       "      <th>105</th>\n",
       "      <td>Maldives</td>\n",
       "      <td>Asia</td>\n",
       "      <td>3433</td>\n",
       "      <td>69.279</td>\n",
       "      <td>273236</td>\n",
       "      <td>938019188</td>\n",
       "    </tr>\n",
       "    <tr>\n",
       "      <th>113</th>\n",
       "      <td>Mongolia</td>\n",
       "      <td>Asia</td>\n",
       "      <td>2017</td>\n",
       "      <td>62.876</td>\n",
       "      <td>2411369</td>\n",
       "      <td>4863731273</td>\n",
       "    </tr>\n",
       "    <tr>\n",
       "      <th>126</th>\n",
       "      <td>Oman</td>\n",
       "      <td>Asia</td>\n",
       "      <td>19204</td>\n",
       "      <td>72.139</td>\n",
       "      <td>2264163</td>\n",
       "      <td>43480986252</td>\n",
       "    </tr>\n",
       "    <tr>\n",
       "      <th>135</th>\n",
       "      <td>Qatar</td>\n",
       "      <td>Asia</td>\n",
       "      <td>60394</td>\n",
       "      <td>76.680</td>\n",
       "      <td>590957</td>\n",
       "      <td>35690257058</td>\n",
       "    </tr>\n",
       "    <tr>\n",
       "      <th>148</th>\n",
       "      <td>Singapore</td>\n",
       "      <td>Asia</td>\n",
       "      <td>36834</td>\n",
       "      <td>78.340</td>\n",
       "      <td>3919300</td>\n",
       "      <td>144363496200</td>\n",
       "    </tr>\n",
       "    <tr>\n",
       "      <th>167</th>\n",
       "      <td>Timor-Leste</td>\n",
       "      <td>Asia</td>\n",
       "      <td>2743</td>\n",
       "      <td>59.468</td>\n",
       "      <td>830089</td>\n",
       "      <td>2276934127</td>\n",
       "    </tr>\n",
       "    <tr>\n",
       "      <th>173</th>\n",
       "      <td>Turkmenistan</td>\n",
       "      <td>Asia</td>\n",
       "      <td>3289</td>\n",
       "      <td>63.925</td>\n",
       "      <td>4501419</td>\n",
       "      <td>14805167091</td>\n",
       "    </tr>\n",
       "    <tr>\n",
       "      <th>176</th>\n",
       "      <td>United Arab Emirates</td>\n",
       "      <td>Asia</td>\n",
       "      <td>30012</td>\n",
       "      <td>74.163</td>\n",
       "      <td>3033491</td>\n",
       "      <td>91041131892</td>\n",
       "    </tr>\n",
       "    <tr>\n",
       "      <th>184</th>\n",
       "      <td>West Bank and Gaza</td>\n",
       "      <td>Asia</td>\n",
       "      <td>7586</td>\n",
       "      <td>70.929</td>\n",
       "      <td>3198560</td>\n",
       "      <td>24264276160</td>\n",
       "    </tr>\n",
       "  </tbody>\n",
       "</table>\n",
       "</div>"
      ],
      "text/plain": [
       "                  Country Continent  GDP_per_capita  life_expectancy  \\\n",
       "11                Bahrain      Asia           22015           74.497   \n",
       "18                 Bhutan      Asia            2922           60.307   \n",
       "23                 Brunei      Asia           48020           75.927   \n",
       "84                 Jordan      Asia            3664           71.724   \n",
       "90                 Kuwait      Asia           36397           73.133   \n",
       "91             Kyrgyzstan      Asia            1527           66.232   \n",
       "94                Lebanon      Asia            5795           74.409   \n",
       "100          Macao, China      Asia           22512           77.627   \n",
       "105              Maldives      Asia            3433           69.279   \n",
       "113              Mongolia      Asia            2017           62.876   \n",
       "126                  Oman      Asia           19204           72.139   \n",
       "135                 Qatar      Asia           60394           76.680   \n",
       "148             Singapore      Asia           36834           78.340   \n",
       "167           Timor-Leste      Asia            2743           59.468   \n",
       "173          Turkmenistan      Asia            3289           63.925   \n",
       "176  United Arab Emirates      Asia           30012           74.163   \n",
       "184    West Bank and Gaza      Asia            7586           70.929   \n",
       "\n",
       "     Population     GDP_gross  \n",
       "11       638193   14049818895  \n",
       "18       571262    1669227564  \n",
       "23       327036   15704268720  \n",
       "84      4827096   17686479744  \n",
       "90      1940786   70638788042  \n",
       "91      4954850    7566055950  \n",
       "94      3742329   21686796555  \n",
       "100      431867    9722189904  \n",
       "105      273236     938019188  \n",
       "113     2411369    4863731273  \n",
       "126     2264163   43480986252  \n",
       "135      590957   35690257058  \n",
       "148     3919300  144363496200  \n",
       "167      830089    2276934127  \n",
       "173     4501419   14805167091  \n",
       "176     3033491   91041131892  \n",
       "184     3198560   24264276160  "
      ]
     },
     "execution_count": 109,
     "metadata": {},
     "output_type": "execute_result"
    }
   ],
   "source": [
    "# Two variables:\n",
    "df[(df.Continent == 'Asia') & (df.Population < 5000000)]"
   ]
  },
  {
   "cell_type": "code",
   "execution_count": 110,
   "metadata": {},
   "outputs": [
    {
     "data": {
      "text/html": [
       "<div>\n",
       "<style scoped>\n",
       "    .dataframe tbody tr th:only-of-type {\n",
       "        vertical-align: middle;\n",
       "    }\n",
       "\n",
       "    .dataframe tbody tr th {\n",
       "        vertical-align: top;\n",
       "    }\n",
       "\n",
       "    .dataframe thead th {\n",
       "        text-align: right;\n",
       "    }\n",
       "</style>\n",
       "<table border=\"1\" class=\"dataframe\">\n",
       "  <thead>\n",
       "    <tr style=\"text-align: right;\">\n",
       "      <th></th>\n",
       "      <th>Country</th>\n",
       "      <th>Continent</th>\n",
       "      <th>GDP_per_capita</th>\n",
       "      <th>life_expectancy</th>\n",
       "      <th>Population</th>\n",
       "      <th>GDP_gross</th>\n",
       "    </tr>\n",
       "  </thead>\n",
       "  <tbody>\n",
       "    <tr>\n",
       "      <th>91</th>\n",
       "      <td>Kyrgyzstan</td>\n",
       "      <td>Asia</td>\n",
       "      <td>1527</td>\n",
       "      <td>66.232</td>\n",
       "      <td>4954850</td>\n",
       "      <td>7566055950</td>\n",
       "    </tr>\n",
       "    <tr>\n",
       "      <th>84</th>\n",
       "      <td>Jordan</td>\n",
       "      <td>Asia</td>\n",
       "      <td>3664</td>\n",
       "      <td>71.724</td>\n",
       "      <td>4827096</td>\n",
       "      <td>17686479744</td>\n",
       "    </tr>\n",
       "    <tr>\n",
       "      <th>173</th>\n",
       "      <td>Turkmenistan</td>\n",
       "      <td>Asia</td>\n",
       "      <td>3289</td>\n",
       "      <td>63.925</td>\n",
       "      <td>4501419</td>\n",
       "      <td>14805167091</td>\n",
       "    </tr>\n",
       "    <tr>\n",
       "      <th>148</th>\n",
       "      <td>Singapore</td>\n",
       "      <td>Asia</td>\n",
       "      <td>36834</td>\n",
       "      <td>78.340</td>\n",
       "      <td>3919300</td>\n",
       "      <td>144363496200</td>\n",
       "    </tr>\n",
       "    <tr>\n",
       "      <th>94</th>\n",
       "      <td>Lebanon</td>\n",
       "      <td>Asia</td>\n",
       "      <td>5795</td>\n",
       "      <td>74.409</td>\n",
       "      <td>3742329</td>\n",
       "      <td>21686796555</td>\n",
       "    </tr>\n",
       "    <tr>\n",
       "      <th>184</th>\n",
       "      <td>West Bank and Gaza</td>\n",
       "      <td>Asia</td>\n",
       "      <td>7586</td>\n",
       "      <td>70.929</td>\n",
       "      <td>3198560</td>\n",
       "      <td>24264276160</td>\n",
       "    </tr>\n",
       "    <tr>\n",
       "      <th>176</th>\n",
       "      <td>United Arab Emirates</td>\n",
       "      <td>Asia</td>\n",
       "      <td>30012</td>\n",
       "      <td>74.163</td>\n",
       "      <td>3033491</td>\n",
       "      <td>91041131892</td>\n",
       "    </tr>\n",
       "    <tr>\n",
       "      <th>113</th>\n",
       "      <td>Mongolia</td>\n",
       "      <td>Asia</td>\n",
       "      <td>2017</td>\n",
       "      <td>62.876</td>\n",
       "      <td>2411369</td>\n",
       "      <td>4863731273</td>\n",
       "    </tr>\n",
       "    <tr>\n",
       "      <th>126</th>\n",
       "      <td>Oman</td>\n",
       "      <td>Asia</td>\n",
       "      <td>19204</td>\n",
       "      <td>72.139</td>\n",
       "      <td>2264163</td>\n",
       "      <td>43480986252</td>\n",
       "    </tr>\n",
       "    <tr>\n",
       "      <th>90</th>\n",
       "      <td>Kuwait</td>\n",
       "      <td>Asia</td>\n",
       "      <td>36397</td>\n",
       "      <td>73.133</td>\n",
       "      <td>1940786</td>\n",
       "      <td>70638788042</td>\n",
       "    </tr>\n",
       "    <tr>\n",
       "      <th>167</th>\n",
       "      <td>Timor-Leste</td>\n",
       "      <td>Asia</td>\n",
       "      <td>2743</td>\n",
       "      <td>59.468</td>\n",
       "      <td>830089</td>\n",
       "      <td>2276934127</td>\n",
       "    </tr>\n",
       "    <tr>\n",
       "      <th>11</th>\n",
       "      <td>Bahrain</td>\n",
       "      <td>Asia</td>\n",
       "      <td>22015</td>\n",
       "      <td>74.497</td>\n",
       "      <td>638193</td>\n",
       "      <td>14049818895</td>\n",
       "    </tr>\n",
       "    <tr>\n",
       "      <th>135</th>\n",
       "      <td>Qatar</td>\n",
       "      <td>Asia</td>\n",
       "      <td>60394</td>\n",
       "      <td>76.680</td>\n",
       "      <td>590957</td>\n",
       "      <td>35690257058</td>\n",
       "    </tr>\n",
       "    <tr>\n",
       "      <th>18</th>\n",
       "      <td>Bhutan</td>\n",
       "      <td>Asia</td>\n",
       "      <td>2922</td>\n",
       "      <td>60.307</td>\n",
       "      <td>571262</td>\n",
       "      <td>1669227564</td>\n",
       "    </tr>\n",
       "    <tr>\n",
       "      <th>100</th>\n",
       "      <td>Macao, China</td>\n",
       "      <td>Asia</td>\n",
       "      <td>22512</td>\n",
       "      <td>77.627</td>\n",
       "      <td>431867</td>\n",
       "      <td>9722189904</td>\n",
       "    </tr>\n",
       "    <tr>\n",
       "      <th>23</th>\n",
       "      <td>Brunei</td>\n",
       "      <td>Asia</td>\n",
       "      <td>48020</td>\n",
       "      <td>75.927</td>\n",
       "      <td>327036</td>\n",
       "      <td>15704268720</td>\n",
       "    </tr>\n",
       "    <tr>\n",
       "      <th>105</th>\n",
       "      <td>Maldives</td>\n",
       "      <td>Asia</td>\n",
       "      <td>3433</td>\n",
       "      <td>69.279</td>\n",
       "      <td>273236</td>\n",
       "      <td>938019188</td>\n",
       "    </tr>\n",
       "  </tbody>\n",
       "</table>\n",
       "</div>"
      ],
      "text/plain": [
       "                  Country Continent  GDP_per_capita  life_expectancy  \\\n",
       "91             Kyrgyzstan      Asia            1527           66.232   \n",
       "84                 Jordan      Asia            3664           71.724   \n",
       "173          Turkmenistan      Asia            3289           63.925   \n",
       "148             Singapore      Asia           36834           78.340   \n",
       "94                Lebanon      Asia            5795           74.409   \n",
       "184    West Bank and Gaza      Asia            7586           70.929   \n",
       "176  United Arab Emirates      Asia           30012           74.163   \n",
       "113              Mongolia      Asia            2017           62.876   \n",
       "126                  Oman      Asia           19204           72.139   \n",
       "90                 Kuwait      Asia           36397           73.133   \n",
       "167           Timor-Leste      Asia            2743           59.468   \n",
       "11                Bahrain      Asia           22015           74.497   \n",
       "135                 Qatar      Asia           60394           76.680   \n",
       "18                 Bhutan      Asia            2922           60.307   \n",
       "100          Macao, China      Asia           22512           77.627   \n",
       "23                 Brunei      Asia           48020           75.927   \n",
       "105              Maldives      Asia            3433           69.279   \n",
       "\n",
       "     Population     GDP_gross  \n",
       "91      4954850    7566055950  \n",
       "84      4827096   17686479744  \n",
       "173     4501419   14805167091  \n",
       "148     3919300  144363496200  \n",
       "94      3742329   21686796555  \n",
       "184     3198560   24264276160  \n",
       "176     3033491   91041131892  \n",
       "113     2411369    4863731273  \n",
       "126     2264163   43480986252  \n",
       "90      1940786   70638788042  \n",
       "167      830089    2276934127  \n",
       "11       638193   14049818895  \n",
       "135      590957   35690257058  \n",
       "18       571262    1669227564  \n",
       "100      431867    9722189904  \n",
       "23       327036   15704268720  \n",
       "105      273236     938019188  "
      ]
     },
     "execution_count": 110,
     "metadata": {},
     "output_type": "execute_result"
    }
   ],
   "source": [
    "# Two variables, sorted:\n",
    "Find the df[(df.Continent == 'Asia') & (df.Population < 5000000)].sort_values(by='Population', ascending=False)"
   ]
  },
  {
   "cell_type": "code",
   "execution_count": 122,
   "metadata": {},
   "outputs": [
    {
     "data": {
      "text/plain": [
       "Continent\n",
       "Asia          18745084.0\n",
       "S. America    12345023.0\n",
       "Africa         8160335.5\n",
       "Europe         4625649.0\n",
       "N. America     1292058.0\n",
       "Oceania         180811.5\n",
       "Name: Population, dtype: float64"
      ]
     },
     "execution_count": 122,
     "metadata": {},
     "output_type": "execute_result"
    }
   ],
   "source": [
    "# Find the median age for those Asian countries with a life exp below 75\n",
    "#     Get \n",
    "#     Group only for Asia\n",
    "#     Process median math\n",
    "#     Arrange list by numbers and list them largest to smallest \n",
    "\n",
    "\n",
    "df[df.life_expectancy < 75].groupby(by='Continent').Population.median().sort_values(ascending=False)"
   ]
  },
  {
   "cell_type": "code",
   "execution_count": 123,
   "metadata": {},
   "outputs": [
    {
     "data": {
      "text/plain": [
       "Continent\n",
       "Africa         1246.5\n",
       "Asia           3799.5\n",
       "Europe        18111.0\n",
       "N. America     7538.5\n",
       "Oceania        3973.0\n",
       "S. America     5770.0\n",
       "Name: GDP_per_capita, dtype: float64"
      ]
     },
     "execution_count": 123,
     "metadata": {},
     "output_type": "execute_result"
    }
   ],
   "source": [
    "df.groupby(by='Continent').GDP_per_capita.median()"
   ]
  },
  {
   "cell_type": "code",
   "execution_count": 124,
   "metadata": {},
   "outputs": [
    {
     "data": {
      "text/plain": [
       "<matplotlib.axes._subplots.AxesSubplot at 0x11e00c70>"
      ]
     },
     "execution_count": 124,
     "metadata": {},
     "output_type": "execute_result"
    }
   ],
   "source": [
    "df.groupby(by='Continent').GDP_per_capita.median().plot()"
   ]
  },
  {
   "cell_type": "code",
   "execution_count": 126,
   "metadata": {},
   "outputs": [
    {
     "data": {
      "text/plain": [
       "<matplotlib.axes._subplots.AxesSubplot at 0x11ab7650>"
      ]
     },
     "execution_count": 126,
     "metadata": {},
     "output_type": "execute_result"
    },
    {
     "data": {
      "image/png": "[encoded data removed]",
      "text/plain": [
       "<Figure size 432x288 with 1 Axes>"
      ]
     },
     "metadata": {
      "needs_background": "light"
     },
     "output_type": "display_data"
    }
   ],
   "source": [
    "df.groupby(by='Continent').GDP_per_capita.median().plot()"
   ]
  },
  {
   "cell_type": "code",
   "execution_count": 127,
   "metadata": {},
   "outputs": [
    {
     "data": {
      "text/plain": [
       "<matplotlib.axes._subplots.AxesSubplot at 0x13519db0>"
      ]
     },
     "execution_count": 127,
     "metadata": {},
     "output_type": "execute_result"
    },
    {
     "data": {
      "image/png": "[encoded data removed]",
      "text/plain": [
       "<Figure size 432x288 with 1 Axes>"
      ]
     },
     "metadata": {
      "needs_background": "light"
     },
     "output_type": "display_data"
    }
   ],
   "source": [
    "df.groupby(by='Continent').GDP_per_capita.median().plot(kind='bar')"
   ]
  },
  {
   "cell_type": "code",
   "execution_count": 128,
   "metadata": {},
   "outputs": [
    {
     "data": {
      "text/plain": [
       "<matplotlib.axes._subplots.AxesSubplot at 0x1339e510>"
      ]
     },
     "execution_count": 128,
     "metadata": {},
     "output_type": "execute_result"
    },
    {
     "data": {
      "image/png": "[encoded data removed]",
      "text/plain": [
       "<Figure size 432x288 with 1 Axes>"
      ]
     },
     "metadata": {
      "needs_background": "light"
     },
     "output_type": "display_data"
    }
   ],
   "source": [
    "df.groupby(by='Continent').GDP_per_capita.median().plot(kind='barh')"
   ]
  },
  {
   "cell_type": "code",
   "execution_count": 130,
   "metadata": {},
   "outputs": [
    {
     "data": {
      "text/plain": [
       "<matplotlib.axes._subplots.AxesSubplot at 0x135bb870>"
      ]
     },
     "execution_count": 130,
     "metadata": {},
     "output_type": "execute_result"
    },
    {
     "data": {
      "image/png": "[encoded data removed]",
      "text/plain": [
       "<Figure size 432x288 with 1 Axes>"
      ]
     },
     "metadata": {
      "needs_background": "light"
     },
     "output_type": "display_data"
    }
   ],
   "source": [
    "df.groupby(by='Continent').GDP_per_capita.median().sort_values(ascending=True).plot(kind='barh')"
   ]
  },
  {
   "cell_type": "code",
   "execution_count": 131,
   "metadata": {},
   "outputs": [
    {
     "data": {
      "text/plain": [
       "<matplotlib.axes._subplots.AxesSubplot at 0x135f5210>"
      ]
     },
     "execution_count": 131,
     "metadata": {},
     "output_type": "execute_result"
    },
    {
     "data": {
      "image/png": "[encoded data removed]",
      "text/plain": [
       "<Figure size 432x288 with 1 Axes>"
      ]
     },
     "metadata": {
      "needs_background": "light"
     },
     "output_type": "display_data"
    }
   ],
   "source": [
    "df.plot(x='GDP_per_capita', y= 'Population')"
   ]
  },
  {
   "cell_type": "code",
   "execution_count": 132,
   "metadata": {},
   "outputs": [
    {
     "data": {
      "text/plain": [
       "<matplotlib.axes._subplots.AxesSubplot at 0x13627810>"
      ]
     },
     "execution_count": 132,
     "metadata": {},
     "output_type": "execute_result"
    },
    {
     "data": {
      "image/png": "[encoded data removed]",
      "text/plain": [
       "<Figure size 432x288 with 1 Axes>"
      ]
     },
     "metadata": {
      "needs_background": "light"
     },
     "output_type": "display_data"
    }
   ],
   "source": [
    "df.plot(x='GDP_per_capita', y= 'Population', kind='scatter')"
   ]
  },
  {
   "cell_type": "code",
   "execution_count": null,
   "metadata": {},
   "outputs": [],
   "source": []
  }
 ],
 "metadata": {
  "kernelspec": {
   "display_name": "Python 3",
   "language": "python",
   "name": "python3"
  },
  "language_info": {
   "codemirror_mode": {
    "name": "ipython",
    "version": 3
   },
   "file_extension": ".py",
   "mimetype": "text/x-python",
   "name": "python",
   "nbconvert_exporter": "python",
   "pygments_lexer": "ipython3",
   "version": "3.7.3"
  }
 },
 "nbformat": 4,
 "nbformat_minor": 2
}
